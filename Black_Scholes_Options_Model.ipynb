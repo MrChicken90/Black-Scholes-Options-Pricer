{
 "cells": [
  {
   "cell_type": "code",
   "execution_count": 61,
   "id": "7ce5a4ab",
   "metadata": {},
   "outputs": [],
   "source": [
    "import yfinance as yf\n",
    "import datetime as dt\n",
    "import numpy as np\n",
    "from scipy.stats import norm\n",
    "import matplotlib.pyplot as plt\n",
    "import seaborn as sns"
   ]
  },
  {
   "cell_type": "code",
   "execution_count": null,
   "id": "09faef65",
   "metadata": {},
   "outputs": [],
   "source": []
  },
  {
   "cell_type": "code",
   "execution_count": 69,
   "id": "89cffe31",
   "metadata": {},
   "outputs": [
    {
     "name": "stdout",
     "output_type": "stream",
     "text": [
      "Price: 44.74\n",
      "Delta: -0.85\n",
      "Gamma: 0.01\n",
      "Theta (per day): 0.01\n",
      "Vega (per 1%): 0.23\n",
      "Rho (per 1%): -1.30\n"
     ]
    }
   ],
   "source": [
    "def black_scholes_with_greeks(S, K, T, r, sigma, option_type='call'):\n",
    "    d1 = (np.log(S / K) + (r + 0.5 * sigma ** 2) * T) / (sigma * np.sqrt(T))\n",
    "    d2 = d1 - sigma * np.sqrt(T)\n",
    "    \n",
    "    if option_type == 'call':\n",
    "        price = S * norm.cdf(d1) - K * np.exp(-r * T) * norm.cdf(d2)\n",
    "        delta = norm.cdf(d1)\n",
    "        theta = (-S * norm.pdf(d1) * sigma / (2 * np.sqrt(T))\n",
    "                 - r * K * np.exp(-r * T) * norm.cdf(d2)) / 365\n",
    "        rho = K * T * np.exp(-r * T) * norm.cdf(d2) / 100\n",
    "    elif option_type == 'put':\n",
    "        price = K * np.exp(-r * T) * norm.cdf(-d2) - S * norm.cdf(-d1)\n",
    "        delta = norm.cdf(d1) - 1\n",
    "        theta = (-S * norm.pdf(d1) * sigma / (2 * np.sqrt(T))\n",
    "                 + r * K * np.exp(-r * T) * norm.cdf(-d2)) / 365\n",
    "        rho = -K * T * np.exp(-r * T) * norm.cdf(-d2) / 100\n",
    "    else:\n",
    "        raise ValueError(\"option_type must be 'call' or 'put'\")\n",
    "    \n",
    "    gamma = norm.pdf(d1) / (S * sigma * np.sqrt(T))\n",
    "    vega = S * norm.pdf(d1) * np.sqrt(T) / 100  # per 1% change in vol\n",
    "\n",
    "    return {\n",
    "        'Price': price,\n",
    "        'Delta': delta,\n",
    "        'Gamma': gamma,\n",
    "        'Theta (per day)': theta,\n",
    "        'Vega (per 1%)': vega,\n",
    "        'Rho (per 1%)': rho\n",
    "    }\n",
    "\n",
    "# Parameters\n",
    "S = 100        # Current stock price\n",
    "K = 150        # Strike price\n",
    "T = 365 / 365   # Time to maturity (in years)\n",
    "r = 0.05       # Annual risk-free rate\n",
    "sigma = 0.3    # Volatility\n",
    "option_type = 'put'\n",
    "\n",
    "# Compute and display\n",
    "results = black_scholes_with_greeks(S, K, T, r, sigma, option_type)\n",
    "\n",
    "for greek, value in results.items():\n",
    "    print(f\"{greek}: {value:.2f}\")"
   ]
  },
  {
   "cell_type": "code",
   "execution_count": null,
   "id": "df165319",
   "metadata": {},
   "outputs": [],
   "source": []
  },
  {
   "cell_type": "code",
   "execution_count": null,
   "id": "8e753c73",
   "metadata": {},
   "outputs": [],
   "source": []
  }
 ],
 "metadata": {
  "kernelspec": {
   "display_name": "Python 3 (ipykernel)",
   "language": "python",
   "name": "python3"
  },
  "language_info": {
   "codemirror_mode": {
    "name": "ipython",
    "version": 3
   },
   "file_extension": ".py",
   "mimetype": "text/x-python",
   "name": "python",
   "nbconvert_exporter": "python",
   "pygments_lexer": "ipython3",
   "version": "3.11.5"
  }
 },
 "nbformat": 4,
 "nbformat_minor": 5
}
